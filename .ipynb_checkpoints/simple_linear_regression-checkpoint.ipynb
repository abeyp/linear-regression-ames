{
 "cells": [
  {
   "cell_type": "markdown",
   "id": "8f06bd06",
   "metadata": {},
   "source": [
    "Simple linear regression model\n",
    "\n",
    "* from: https://www.youtube.com/watch?v=8Uj3_BLEa6s&list=PLYE_v-9v-vcc85oGP59B-3B7Or6W04scg&index=1\n",
    "* cleaning data with https://www.kaggle.com/juliencs/a-study-on-regression-applied-to-the-ames-dataset"
   ]
  },
  {
   "cell_type": "code",
   "execution_count": 3,
   "id": "aef9dfdb",
   "metadata": {},
   "outputs": [],
   "source": [
    "import pandas as pd\n",
    "import numpy as np\n",
    "\n",
    "from matplotlib import pyplot as plt\n",
    "import seaborn as sns\n",
    "\n",
    "import statsmodels.api as sm\n",
    "\n",
    "from sklearn.model_selection import train_test_split\n",
    "from sklearn.metrics import r2_score, mean_squared_error\n",
    "\n",
    "import os\n",
    "TRAIN_DATA_PATH=os.getenv(\"TRAIN_DATA_PATH\")"
   ]
  },
  {
   "cell_type": "code",
   "execution_count": null,
   "id": "8eb823ed",
   "metadata": {},
   "outputs": [],
   "source": [
    "# LOAD THE DATASET\n",
    "\n",
    "train_df = pd.read_csv(TRAIN_DATA_PATH)"
   ]
  },
  {
   "cell_type": "code",
   "execution_count": 80,
   "id": "0505e6a8",
   "metadata": {},
   "outputs": [
    {
     "data": {
      "text/html": [
       "<div>\n",
       "<style scoped>\n",
       "    .dataframe tbody tr th:only-of-type {\n",
       "        vertical-align: middle;\n",
       "    }\n",
       "\n",
       "    .dataframe tbody tr th {\n",
       "        vertical-align: top;\n",
       "    }\n",
       "\n",
       "    .dataframe thead th {\n",
       "        text-align: right;\n",
       "    }\n",
       "</style>\n",
       "<table border=\"1\" class=\"dataframe\">\n",
       "  <thead>\n",
       "    <tr style=\"text-align: right;\">\n",
       "      <th></th>\n",
       "      <th>Id</th>\n",
       "      <th>MSSubClass</th>\n",
       "      <th>MSZoning</th>\n",
       "      <th>LotFrontage</th>\n",
       "      <th>LotArea</th>\n",
       "      <th>Street</th>\n",
       "      <th>Alley</th>\n",
       "      <th>LotShape</th>\n",
       "      <th>LandContour</th>\n",
       "      <th>Utilities</th>\n",
       "      <th>...</th>\n",
       "      <th>PoolArea</th>\n",
       "      <th>PoolQC</th>\n",
       "      <th>Fence</th>\n",
       "      <th>MiscFeature</th>\n",
       "      <th>MiscVal</th>\n",
       "      <th>MoSold</th>\n",
       "      <th>YrSold</th>\n",
       "      <th>SaleType</th>\n",
       "      <th>SaleCondition</th>\n",
       "      <th>SalePrice</th>\n",
       "    </tr>\n",
       "  </thead>\n",
       "  <tbody>\n",
       "    <tr>\n",
       "      <th>0</th>\n",
       "      <td>1</td>\n",
       "      <td>60</td>\n",
       "      <td>RL</td>\n",
       "      <td>65.0</td>\n",
       "      <td>8450</td>\n",
       "      <td>Pave</td>\n",
       "      <td>NaN</td>\n",
       "      <td>Reg</td>\n",
       "      <td>Lvl</td>\n",
       "      <td>AllPub</td>\n",
       "      <td>...</td>\n",
       "      <td>0</td>\n",
       "      <td>NaN</td>\n",
       "      <td>NaN</td>\n",
       "      <td>NaN</td>\n",
       "      <td>0</td>\n",
       "      <td>2</td>\n",
       "      <td>2008</td>\n",
       "      <td>WD</td>\n",
       "      <td>Normal</td>\n",
       "      <td>208500</td>\n",
       "    </tr>\n",
       "    <tr>\n",
       "      <th>1</th>\n",
       "      <td>2</td>\n",
       "      <td>20</td>\n",
       "      <td>RL</td>\n",
       "      <td>80.0</td>\n",
       "      <td>9600</td>\n",
       "      <td>Pave</td>\n",
       "      <td>NaN</td>\n",
       "      <td>Reg</td>\n",
       "      <td>Lvl</td>\n",
       "      <td>AllPub</td>\n",
       "      <td>...</td>\n",
       "      <td>0</td>\n",
       "      <td>NaN</td>\n",
       "      <td>NaN</td>\n",
       "      <td>NaN</td>\n",
       "      <td>0</td>\n",
       "      <td>5</td>\n",
       "      <td>2007</td>\n",
       "      <td>WD</td>\n",
       "      <td>Normal</td>\n",
       "      <td>181500</td>\n",
       "    </tr>\n",
       "    <tr>\n",
       "      <th>2</th>\n",
       "      <td>3</td>\n",
       "      <td>60</td>\n",
       "      <td>RL</td>\n",
       "      <td>68.0</td>\n",
       "      <td>11250</td>\n",
       "      <td>Pave</td>\n",
       "      <td>NaN</td>\n",
       "      <td>IR1</td>\n",
       "      <td>Lvl</td>\n",
       "      <td>AllPub</td>\n",
       "      <td>...</td>\n",
       "      <td>0</td>\n",
       "      <td>NaN</td>\n",
       "      <td>NaN</td>\n",
       "      <td>NaN</td>\n",
       "      <td>0</td>\n",
       "      <td>9</td>\n",
       "      <td>2008</td>\n",
       "      <td>WD</td>\n",
       "      <td>Normal</td>\n",
       "      <td>223500</td>\n",
       "    </tr>\n",
       "    <tr>\n",
       "      <th>3</th>\n",
       "      <td>4</td>\n",
       "      <td>70</td>\n",
       "      <td>RL</td>\n",
       "      <td>60.0</td>\n",
       "      <td>9550</td>\n",
       "      <td>Pave</td>\n",
       "      <td>NaN</td>\n",
       "      <td>IR1</td>\n",
       "      <td>Lvl</td>\n",
       "      <td>AllPub</td>\n",
       "      <td>...</td>\n",
       "      <td>0</td>\n",
       "      <td>NaN</td>\n",
       "      <td>NaN</td>\n",
       "      <td>NaN</td>\n",
       "      <td>0</td>\n",
       "      <td>2</td>\n",
       "      <td>2006</td>\n",
       "      <td>WD</td>\n",
       "      <td>Abnorml</td>\n",
       "      <td>140000</td>\n",
       "    </tr>\n",
       "    <tr>\n",
       "      <th>4</th>\n",
       "      <td>5</td>\n",
       "      <td>60</td>\n",
       "      <td>RL</td>\n",
       "      <td>84.0</td>\n",
       "      <td>14260</td>\n",
       "      <td>Pave</td>\n",
       "      <td>NaN</td>\n",
       "      <td>IR1</td>\n",
       "      <td>Lvl</td>\n",
       "      <td>AllPub</td>\n",
       "      <td>...</td>\n",
       "      <td>0</td>\n",
       "      <td>NaN</td>\n",
       "      <td>NaN</td>\n",
       "      <td>NaN</td>\n",
       "      <td>0</td>\n",
       "      <td>12</td>\n",
       "      <td>2008</td>\n",
       "      <td>WD</td>\n",
       "      <td>Normal</td>\n",
       "      <td>250000</td>\n",
       "    </tr>\n",
       "  </tbody>\n",
       "</table>\n",
       "<p>5 rows × 81 columns</p>\n",
       "</div>"
      ],
      "text/plain": [
       "   Id  MSSubClass MSZoning  LotFrontage  LotArea Street Alley LotShape  \\\n",
       "0   1          60       RL         65.0     8450   Pave   NaN      Reg   \n",
       "1   2          20       RL         80.0     9600   Pave   NaN      Reg   \n",
       "2   3          60       RL         68.0    11250   Pave   NaN      IR1   \n",
       "3   4          70       RL         60.0     9550   Pave   NaN      IR1   \n",
       "4   5          60       RL         84.0    14260   Pave   NaN      IR1   \n",
       "\n",
       "  LandContour Utilities  ... PoolArea PoolQC Fence MiscFeature MiscVal MoSold  \\\n",
       "0         Lvl    AllPub  ...        0    NaN   NaN         NaN       0      2   \n",
       "1         Lvl    AllPub  ...        0    NaN   NaN         NaN       0      5   \n",
       "2         Lvl    AllPub  ...        0    NaN   NaN         NaN       0      9   \n",
       "3         Lvl    AllPub  ...        0    NaN   NaN         NaN       0      2   \n",
       "4         Lvl    AllPub  ...        0    NaN   NaN         NaN       0     12   \n",
       "\n",
       "  YrSold  SaleType  SaleCondition  SalePrice  \n",
       "0   2008        WD         Normal     208500  \n",
       "1   2007        WD         Normal     181500  \n",
       "2   2008        WD         Normal     223500  \n",
       "3   2006        WD        Abnorml     140000  \n",
       "4   2008        WD         Normal     250000  \n",
       "\n",
       "[5 rows x 81 columns]"
      ]
     },
     "execution_count": 80,
     "metadata": {},
     "output_type": "execute_result"
    }
   ],
   "source": [
    "train_df.head()"
   ]
  },
  {
   "cell_type": "code",
   "execution_count": 81,
   "id": "52da2a32",
   "metadata": {
    "scrolled": true
   },
   "outputs": [
    {
     "data": {
      "text/plain": [
       "1298    5642\n",
       "523     4676\n",
       "1182    4476\n",
       "691     4316\n",
       "1169    3627\n",
       "Name: GrLivArea, dtype: int64"
      ]
     },
     "execution_count": 81,
     "metadata": {},
     "output_type": "execute_result"
    }
   ],
   "source": [
    "#checking for outliers\n",
    "\n",
    "train_df.GrLivArea.sort_values(ascending=False).head()"
   ]
  },
  {
   "cell_type": "code",
   "execution_count": 82,
   "id": "ac9945ea",
   "metadata": {},
   "outputs": [
    {
     "name": "stdout",
     "output_type": "stream",
     "text": [
      "<class 'pandas.core.frame.DataFrame'>\n",
      "RangeIndex: 1460 entries, 0 to 1459\n",
      "Data columns (total 2 columns):\n",
      " #   Column     Non-Null Count  Dtype\n",
      "---  ------     --------------  -----\n",
      " 0   GrLivArea  1460 non-null   int64\n",
      " 1   SalePrice  1460 non-null   int64\n",
      "dtypes: int64(2)\n",
      "memory usage: 22.9 KB\n"
     ]
    }
   ],
   "source": [
    "train = train_df[['GrLivArea','SalePrice']]\n",
    "train.info()"
   ]
  },
  {
   "cell_type": "code",
   "execution_count": 83,
   "id": "26c40794",
   "metadata": {},
   "outputs": [
    {
     "data": {
      "text/html": [
       "<div>\n",
       "<style scoped>\n",
       "    .dataframe tbody tr th:only-of-type {\n",
       "        vertical-align: middle;\n",
       "    }\n",
       "\n",
       "    .dataframe tbody tr th {\n",
       "        vertical-align: top;\n",
       "    }\n",
       "\n",
       "    .dataframe thead th {\n",
       "        text-align: right;\n",
       "    }\n",
       "</style>\n",
       "<table border=\"1\" class=\"dataframe\">\n",
       "  <thead>\n",
       "    <tr style=\"text-align: right;\">\n",
       "      <th></th>\n",
       "      <th>GrLivArea</th>\n",
       "      <th>SalePrice</th>\n",
       "    </tr>\n",
       "  </thead>\n",
       "  <tbody>\n",
       "    <tr>\n",
       "      <th>0</th>\n",
       "      <td>1710</td>\n",
       "      <td>208500</td>\n",
       "    </tr>\n",
       "    <tr>\n",
       "      <th>1</th>\n",
       "      <td>1262</td>\n",
       "      <td>181500</td>\n",
       "    </tr>\n",
       "    <tr>\n",
       "      <th>2</th>\n",
       "      <td>1786</td>\n",
       "      <td>223500</td>\n",
       "    </tr>\n",
       "    <tr>\n",
       "      <th>3</th>\n",
       "      <td>1717</td>\n",
       "      <td>140000</td>\n",
       "    </tr>\n",
       "    <tr>\n",
       "      <th>4</th>\n",
       "      <td>2198</td>\n",
       "      <td>250000</td>\n",
       "    </tr>\n",
       "    <tr>\n",
       "      <th>...</th>\n",
       "      <td>...</td>\n",
       "      <td>...</td>\n",
       "    </tr>\n",
       "    <tr>\n",
       "      <th>1455</th>\n",
       "      <td>1647</td>\n",
       "      <td>175000</td>\n",
       "    </tr>\n",
       "    <tr>\n",
       "      <th>1456</th>\n",
       "      <td>2073</td>\n",
       "      <td>210000</td>\n",
       "    </tr>\n",
       "    <tr>\n",
       "      <th>1457</th>\n",
       "      <td>2340</td>\n",
       "      <td>266500</td>\n",
       "    </tr>\n",
       "    <tr>\n",
       "      <th>1458</th>\n",
       "      <td>1078</td>\n",
       "      <td>142125</td>\n",
       "    </tr>\n",
       "    <tr>\n",
       "      <th>1459</th>\n",
       "      <td>1256</td>\n",
       "      <td>147500</td>\n",
       "    </tr>\n",
       "  </tbody>\n",
       "</table>\n",
       "<p>1456 rows × 2 columns</p>\n",
       "</div>"
      ],
      "text/plain": [
       "      GrLivArea  SalePrice\n",
       "0          1710     208500\n",
       "1          1262     181500\n",
       "2          1786     223500\n",
       "3          1717     140000\n",
       "4          2198     250000\n",
       "...         ...        ...\n",
       "1455       1647     175000\n",
       "1456       2073     210000\n",
       "1457       2340     266500\n",
       "1458       1078     142125\n",
       "1459       1256     147500\n",
       "\n",
       "[1456 rows x 2 columns]"
      ]
     },
     "execution_count": 83,
     "metadata": {},
     "output_type": "execute_result"
    }
   ],
   "source": [
    "# Need houses less than 4000 sq.ft\n",
    "\n",
    "train[train.GrLivArea < 4000]"
   ]
  },
  {
   "cell_type": "code",
   "execution_count": 84,
   "id": "5c35b718",
   "metadata": {},
   "outputs": [
    {
     "data": {
      "text/plain": [
       "1169    3627\n",
       "185     3608\n",
       "304     3493\n",
       "1268    3447\n",
       "635     3395\n",
       "        ... \n",
       "528      605\n",
       "29       520\n",
       "916      480\n",
       "1100     438\n",
       "533      334\n",
       "Name: GrLivArea, Length: 1456, dtype: int64"
      ]
     },
     "execution_count": 84,
     "metadata": {},
     "output_type": "execute_result"
    }
   ],
   "source": [
    "#REMOVE HOUSE OUTLIERS\n",
    "\n",
    "train = train[train.GrLivArea < 4000]\n",
    "\n",
    "#checking after removing outliers\n",
    "train['GrLivArea'].sort_values(ascending=False)"
   ]
  },
  {
   "cell_type": "code",
   "execution_count": 85,
   "id": "d0ecdc63",
   "metadata": {},
   "outputs": [
    {
     "name": "stdout",
     "output_type": "stream",
     "text": [
      "<class 'pandas.core.frame.DataFrame'>\n",
      "Int64Index: 1456 entries, 0 to 1459\n",
      "Data columns (total 2 columns):\n",
      " #   Column     Non-Null Count  Dtype\n",
      "---  ------     --------------  -----\n",
      " 0   GrLivArea  1456 non-null   int64\n",
      " 1   SalePrice  1456 non-null   int64\n",
      "dtypes: int64(2)\n",
      "memory usage: 34.1 KB\n",
      "None\n"
     ]
    },
    {
     "data": {
      "text/html": [
       "<div>\n",
       "<style scoped>\n",
       "    .dataframe tbody tr th:only-of-type {\n",
       "        vertical-align: middle;\n",
       "    }\n",
       "\n",
       "    .dataframe tbody tr th {\n",
       "        vertical-align: top;\n",
       "    }\n",
       "\n",
       "    .dataframe thead th {\n",
       "        text-align: right;\n",
       "    }\n",
       "</style>\n",
       "<table border=\"1\" class=\"dataframe\">\n",
       "  <thead>\n",
       "    <tr style=\"text-align: right;\">\n",
       "      <th></th>\n",
       "      <th>GrLivArea</th>\n",
       "      <th>SalePrice</th>\n",
       "    </tr>\n",
       "  </thead>\n",
       "  <tbody>\n",
       "    <tr>\n",
       "      <th>0</th>\n",
       "      <td>1710</td>\n",
       "      <td>208500</td>\n",
       "    </tr>\n",
       "    <tr>\n",
       "      <th>1</th>\n",
       "      <td>1262</td>\n",
       "      <td>181500</td>\n",
       "    </tr>\n",
       "    <tr>\n",
       "      <th>2</th>\n",
       "      <td>1786</td>\n",
       "      <td>223500</td>\n",
       "    </tr>\n",
       "    <tr>\n",
       "      <th>3</th>\n",
       "      <td>1717</td>\n",
       "      <td>140000</td>\n",
       "    </tr>\n",
       "    <tr>\n",
       "      <th>4</th>\n",
       "      <td>2198</td>\n",
       "      <td>250000</td>\n",
       "    </tr>\n",
       "  </tbody>\n",
       "</table>\n",
       "</div>"
      ],
      "text/plain": [
       "   GrLivArea  SalePrice\n",
       "0       1710     208500\n",
       "1       1262     181500\n",
       "2       1786     223500\n",
       "3       1717     140000\n",
       "4       2198     250000"
      ]
     },
     "execution_count": 85,
     "metadata": {},
     "output_type": "execute_result"
    }
   ],
   "source": [
    "#final set up of train dataset with one dependent and explanatory variable\n",
    "\n",
    "print(train.info())\n",
    "train.head()"
   ]
  },
  {
   "cell_type": "code",
   "execution_count": 86,
   "id": "272ea68e",
   "metadata": {},
   "outputs": [
    {
     "data": {
      "image/png": "[encoded data removed]",
      "text/plain": [
       "<Figure size 720x360 with 1 Axes>"
      ]
     },
     "metadata": {
      "needs_background": "light"
     },
     "output_type": "display_data"
    }
   ],
   "source": [
    "plt.figure(figsize=(10,5))\n",
    "plt.scatter(train.GrLivArea, train.SalePrice)\n",
    "plt.title(\"Looking for outliers\")\n",
    "plt.xlabel(\"GrLiveArea\")\n",
    "plt.ylabel(\"SalePrice\")\n",
    "\n",
    "plt.show()"
   ]
  },
  {
   "cell_type": "code",
   "execution_count": null,
   "id": "ac262379",
   "metadata": {},
   "outputs": [],
   "source": [
    "# TAKE LOG OF HOUSES WHEN PREDICTING EXPENSIVE VS CHEAP\n",
    "\n",
    "train.SalePrice = np.log1p(train.SalePrice)\n",
    "y = train.SalePrice"
   ]
  },
  {
   "cell_type": "code",
   "execution_count": 97,
   "id": "7c595d34",
   "metadata": {},
   "outputs": [
    {
     "data": {
      "text/plain": [
       "0    12.247699\n",
       "1    12.109016\n",
       "2    12.317171\n",
       "3    11.849405\n",
       "4    12.429220\n",
       "Name: SalePrice, dtype: float64"
      ]
     },
     "execution_count": 97,
     "metadata": {},
     "output_type": "execute_result"
    }
   ],
   "source": [
    "y.head()"
   ]
  },
  {
   "cell_type": "code",
   "execution_count": 95,
   "id": "96d1206e",
   "metadata": {},
   "outputs": [
    {
     "data": {
      "text/plain": [
       "SalePrice    1.000000\n",
       "GrLivArea    0.718844\n",
       "Name: SalePrice, dtype: float64"
      ]
     },
     "execution_count": 95,
     "metadata": {},
     "output_type": "execute_result"
    }
   ],
   "source": [
    "# Correlation matric\n",
    "\n",
    "corr = train.corr()\n",
    "corr.sort_values(['SalePrice'], ascending=False, inplace=True)\n",
    "corr.SalePrice"
   ]
  },
  {
   "cell_type": "code",
   "execution_count": 96,
   "id": "87ce21ff",
   "metadata": {
    "scrolled": true
   },
   "outputs": [
    {
     "data": {
      "text/plain": [
       "<AxesSubplot:>"
      ]
     },
     "execution_count": 96,
     "metadata": {},
     "output_type": "execute_result"
    },
    {
     "data": {
      "image/png": "[encoded data removed]",
      "text/plain": [
       "<Figure size 432x288 with 2 Axes>"
      ]
     },
     "metadata": {
      "needs_background": "light"
     },
     "output_type": "display_data"
    }
   ],
   "source": [
    "sns.heatmap(train[['GrLivArea','SalePrice']].corr(), annot=True)"
   ]
  },
  {
   "cell_type": "code",
   "execution_count": 99,
   "id": "23400bc7",
   "metadata": {},
   "outputs": [
    {
     "name": "stdout",
     "output_type": "stream",
     "text": [
      "(1456, 2)\n",
      "(1456,)\n"
     ]
    },
    {
     "name": "stderr",
     "output_type": "stream",
     "text": [
      "/Users/abeygailpanganiban/opt/anaconda3/lib/python3.9/site-packages/statsmodels/tsa/tsatools.py:142: FutureWarning: In a future version of pandas all arguments of concat except for the argument 'objs' will be keyword-only\n",
      "  x = pd.concat(x[::order], 1)\n"
     ]
    },
    {
     "data": {
      "text/html": [
       "<div>\n",
       "<style scoped>\n",
       "    .dataframe tbody tr th:only-of-type {\n",
       "        vertical-align: middle;\n",
       "    }\n",
       "\n",
       "    .dataframe tbody tr th {\n",
       "        vertical-align: top;\n",
       "    }\n",
       "\n",
       "    .dataframe thead th {\n",
       "        text-align: right;\n",
       "    }\n",
       "</style>\n",
       "<table border=\"1\" class=\"dataframe\">\n",
       "  <thead>\n",
       "    <tr style=\"text-align: right;\">\n",
       "      <th></th>\n",
       "      <th>const</th>\n",
       "      <th>GrLivArea</th>\n",
       "    </tr>\n",
       "  </thead>\n",
       "  <tbody>\n",
       "    <tr>\n",
       "      <th>0</th>\n",
       "      <td>1.0</td>\n",
       "      <td>1710</td>\n",
       "    </tr>\n",
       "    <tr>\n",
       "      <th>1</th>\n",
       "      <td>1.0</td>\n",
       "      <td>1262</td>\n",
       "    </tr>\n",
       "    <tr>\n",
       "      <th>2</th>\n",
       "      <td>1.0</td>\n",
       "      <td>1786</td>\n",
       "    </tr>\n",
       "    <tr>\n",
       "      <th>3</th>\n",
       "      <td>1.0</td>\n",
       "      <td>1717</td>\n",
       "    </tr>\n",
       "    <tr>\n",
       "      <th>4</th>\n",
       "      <td>1.0</td>\n",
       "      <td>2198</td>\n",
       "    </tr>\n",
       "    <tr>\n",
       "      <th>...</th>\n",
       "      <td>...</td>\n",
       "      <td>...</td>\n",
       "    </tr>\n",
       "    <tr>\n",
       "      <th>1455</th>\n",
       "      <td>1.0</td>\n",
       "      <td>1647</td>\n",
       "    </tr>\n",
       "    <tr>\n",
       "      <th>1456</th>\n",
       "      <td>1.0</td>\n",
       "      <td>2073</td>\n",
       "    </tr>\n",
       "    <tr>\n",
       "      <th>1457</th>\n",
       "      <td>1.0</td>\n",
       "      <td>2340</td>\n",
       "    </tr>\n",
       "    <tr>\n",
       "      <th>1458</th>\n",
       "      <td>1.0</td>\n",
       "      <td>1078</td>\n",
       "    </tr>\n",
       "    <tr>\n",
       "      <th>1459</th>\n",
       "      <td>1.0</td>\n",
       "      <td>1256</td>\n",
       "    </tr>\n",
       "  </tbody>\n",
       "</table>\n",
       "<p>1456 rows × 2 columns</p>\n",
       "</div>"
      ],
      "text/plain": [
       "      const  GrLivArea\n",
       "0       1.0       1710\n",
       "1       1.0       1262\n",
       "2       1.0       1786\n",
       "3       1.0       1717\n",
       "4       1.0       2198\n",
       "...     ...        ...\n",
       "1455    1.0       1647\n",
       "1456    1.0       2073\n",
       "1457    1.0       2340\n",
       "1458    1.0       1078\n",
       "1459    1.0       1256\n",
       "\n",
       "[1456 rows x 2 columns]"
      ]
     },
     "execution_count": 99,
     "metadata": {},
     "output_type": "execute_result"
    }
   ],
   "source": [
    "# IDENTIFY THE FEATURE X AND OUTCOME VARIABLE Y IN THE DATAFRAME FOR BUILDING THE MODEL\n",
    "\n",
    "x = sm.add_constant(train.GrLivArea)\n",
    "y = train.SalePrice\n",
    "print(x.shape)\n",
    "print(y.shape)\n",
    "x\n",
    "\n",
    "#added constant for the x-value"
   ]
  },
  {
   "cell_type": "code",
   "execution_count": 100,
   "id": "25079550",
   "metadata": {},
   "outputs": [
    {
     "name": "stdout",
     "output_type": "stream",
     "text": [
      "(1164, 2)\n",
      "(292, 2)\n",
      "(1164,)\n",
      "(292,)\n"
     ]
    }
   ],
   "source": [
    "#split data into train and test\n",
    "\n",
    "x_train, x_test, y_train, y_test = train_test_split(x,y,train_size=0.80, test_size=0.2, random_state=100)\n",
    "print(x_train.shape)\n",
    "print(x_test.shape)\n",
    "print(y_train.shape)\n",
    "print(y_test.shape)"
   ]
  },
  {
   "cell_type": "code",
   "execution_count": 101,
   "id": "b7dffc76",
   "metadata": {},
   "outputs": [],
   "source": [
    "#FITTIN THE MODEL\n",
    "\n",
    "saleprice_lm = sm.OLS(y_train, x_train).fit()"
   ]
  },
  {
   "cell_type": "code",
   "execution_count": 102,
   "id": "e2e6ea89",
   "metadata": {
    "scrolled": true
   },
   "outputs": [
    {
     "data": {
      "text/plain": [
       "const        11.159589\n",
       "GrLivArea     0.000572\n",
       "dtype: float64"
      ]
     },
     "execution_count": 102,
     "metadata": {},
     "output_type": "execute_result"
    }
   ],
   "source": [
    "# Parameters and Intercept\n",
    "saleprice_lm.params"
   ]
  },
  {
   "cell_type": "markdown",
   "id": "06e5e23c",
   "metadata": {},
   "source": [
    "## SkLearn"
   ]
  },
  {
   "cell_type": "code",
   "execution_count": 139,
   "id": "7434cdd9",
   "metadata": {},
   "outputs": [
    {
     "name": "stdout",
     "output_type": "stream",
     "text": [
      "[0.         0.00057243]\n",
      "11.15958925348117\n"
     ]
    }
   ],
   "source": [
    "# Using sklearn\n",
    "from sklearn.linear_model import LinearRegression\n",
    "\n",
    "lm = LinearRegression(fit_intercept=True)\n",
    "saleprice_lm2 = lm.fit(x_train,y_train)\n",
    "\n",
    "print(lm.coef_)\n",
    "print(lm.intercept_)"
   ]
  },
  {
   "cell_type": "code",
   "execution_count": 118,
   "id": "c67a044e",
   "metadata": {},
   "outputs": [],
   "source": [
    "p = saleprice_lm2.predict(x_train)"
   ]
  },
  {
   "cell_type": "code",
   "execution_count": 120,
   "id": "4cd6aa9a",
   "metadata": {
    "scrolled": true
   },
   "outputs": [
    {
     "name": "stdout",
     "output_type": "stream",
     "text": [
      "[12.09609028 12.09208325 11.87513099 ... 12.22946726 11.86368232\n",
      " 12.24435053]\n"
     ]
    }
   ],
   "source": [
    "Y_reg_train = p\n",
    "print(Y_reg_train)"
   ]
  },
  {
   "cell_type": "code",
   "execution_count": 140,
   "id": "72042c74",
   "metadata": {},
   "outputs": [],
   "source": [
    "# PREDICT TEST DATASET FROM TRAIN MODEL\n",
    "\n",
    "y_test_model = saleprice_lm2.predict(x_test)"
   ]
  },
  {
   "cell_type": "code",
   "execution_count": 143,
   "id": "481c5384",
   "metadata": {},
   "outputs": [
    {
     "data": {
      "text/plain": [
       "0.2838328024401216"
      ]
     },
     "execution_count": 143,
     "metadata": {},
     "output_type": "execute_result"
    }
   ],
   "source": [
    "np.sqrt(mean_squared_error(y_test,y_test_model))"
   ]
  },
  {
   "cell_type": "code",
   "execution_count": 121,
   "id": "c49a177d",
   "metadata": {},
   "outputs": [
    {
     "name": "stdout",
     "output_type": "stream",
     "text": [
      "(1164,)\n",
      "(1164,)\n"
     ]
    },
    {
     "data": {
      "image/png": "[encoded data removed]",
      "text/plain": [
       "<Figure size 1080x720 with 1 Axes>"
      ]
     },
     "metadata": {
      "needs_background": "light"
     },
     "output_type": "display_data"
    }
   ],
   "source": [
    "print(x_train.GrLivArea.shape)\n",
    "print(Y_reg_train.shape)\n",
    "\n",
    "plt.figure(figsize=(15,10))\n",
    "plt.scatter(x_train.GrLivArea,y_train)\n",
    "plt.xlabel('GrLivArea')\n",
    "plt.ylabel('SalePrice')\n",
    "\n",
    "plt.plot(x_train.GrLivArea,Y_reg_train, color='orange',lw=3, label='Predicted')\n",
    "plt.legend()\n",
    "\n",
    "plt.show()\n"
   ]
  },
  {
   "cell_type": "markdown",
   "id": "71b8ca04",
   "metadata": {},
   "source": [
    "## back to statsmodel\n",
    "\n",
    "Predicitng Y values again with statsmodel and plotting residual from line."
   ]
  },
  {
   "cell_type": "code",
   "execution_count": 103,
   "id": "e68b7621",
   "metadata": {},
   "outputs": [
    {
     "data": {
      "text/html": [
       "<table class=\"simpletable\">\n",
       "<tr>\n",
       "        <td>Model:</td>               <td>OLS</td>         <td>Adj. R-squared:</td>     <td>0.510</td>  \n",
       "</tr>\n",
       "<tr>\n",
       "  <td>Dependent Variable:</td>     <td>SalePrice</td>           <td>AIC:</td>         <td>285.3187</td> \n",
       "</tr>\n",
       "<tr>\n",
       "         <td>Date:</td>        <td>2022-03-14 17:32</td>        <td>BIC:</td>         <td>295.4379</td> \n",
       "</tr>\n",
       "<tr>\n",
       "   <td>No. Observations:</td>        <td>1164</td>         <td>Log-Likelihood:</td>    <td>-140.66</td> \n",
       "</tr>\n",
       "<tr>\n",
       "       <td>Df Model:</td>              <td>1</td>           <td>F-statistic:</td>       <td>1212.</td>  \n",
       "</tr>\n",
       "<tr>\n",
       "     <td>Df Residuals:</td>          <td>1162</td>       <td>Prob (F-statistic):</td> <td>1.69e-182</td>\n",
       "</tr>\n",
       "<tr>\n",
       "      <td>R-squared:</td>            <td>0.511</td>            <td>Scale:</td>        <td>0.074685</td> \n",
       "</tr>\n",
       "</table>\n",
       "<table class=\"simpletable\">\n",
       "<tr>\n",
       "      <td></td>       <th>Coef.</th>  <th>Std.Err.</th>     <th>t</th>     <th>P>|t|</th> <th>[0.025</th>  <th>0.975]</th> \n",
       "</tr>\n",
       "<tr>\n",
       "  <th>const</th>     <td>11.1596</td>  <td>0.0260</td>  <td>428.6047</td> <td>0.0000</td> <td>11.1085</td> <td>11.2107</td>\n",
       "</tr>\n",
       "<tr>\n",
       "  <th>GrLivArea</th> <td>0.0006</td>   <td>0.0000</td>   <td>34.8162</td> <td>0.0000</td> <td>0.0005</td>  <td>0.0006</td> \n",
       "</tr>\n",
       "</table>\n",
       "<table class=\"simpletable\">\n",
       "<tr>\n",
       "     <td>Omnibus:</td>    <td>61.507</td>  <td>Durbin-Watson:</td>    <td>2.028</td>\n",
       "</tr>\n",
       "<tr>\n",
       "  <td>Prob(Omnibus):</td>  <td>0.000</td> <td>Jarque-Bera (JB):</td> <td>87.206</td>\n",
       "</tr>\n",
       "<tr>\n",
       "       <td>Skew:</td>     <td>-0.463</td>     <td>Prob(JB):</td>      <td>0.000</td>\n",
       "</tr>\n",
       "<tr>\n",
       "     <td>Kurtosis:</td>    <td>3.970</td>  <td>Condition No.:</td>    <td>5148</td> \n",
       "</tr>\n",
       "</table>"
      ],
      "text/plain": [
       "<class 'statsmodels.iolib.summary2.Summary'>\n",
       "\"\"\"\n",
       "                 Results: Ordinary least squares\n",
       "==================================================================\n",
       "Model:              OLS              Adj. R-squared:     0.510    \n",
       "Dependent Variable: SalePrice        AIC:                285.3187 \n",
       "Date:               2022-03-14 17:32 BIC:                295.4379 \n",
       "No. Observations:   1164             Log-Likelihood:     -140.66  \n",
       "Df Model:           1                F-statistic:        1212.    \n",
       "Df Residuals:       1162             Prob (F-statistic): 1.69e-182\n",
       "R-squared:          0.511            Scale:              0.074685 \n",
       "-------------------------------------------------------------------\n",
       "               Coef.   Std.Err.     t      P>|t|    [0.025   0.975]\n",
       "-------------------------------------------------------------------\n",
       "const         11.1596    0.0260  428.6047  0.0000  11.1085  11.2107\n",
       "GrLivArea      0.0006    0.0000   34.8162  0.0000   0.0005   0.0006\n",
       "------------------------------------------------------------------\n",
       "Omnibus:               61.507       Durbin-Watson:          2.028 \n",
       "Prob(Omnibus):         0.000        Jarque-Bera (JB):       87.206\n",
       "Skew:                  -0.463       Prob(JB):               0.000 \n",
       "Kurtosis:              3.970        Condition No.:          5148  \n",
       "==================================================================\n",
       "* The condition number is large (5e+03). This might indicate\n",
       "strong multicollinearity or other numerical problems.\n",
       "\"\"\""
      ]
     },
     "execution_count": 103,
     "metadata": {},
     "output_type": "execute_result"
    }
   ],
   "source": [
    "saleprice_lm.summary2()"
   ]
  },
  {
   "cell_type": "markdown",
   "id": "ba4d595e",
   "metadata": {},
   "source": [
    "R-squared reports 'GrLivArea' accounts for 47.7% of the Saleprice with a statistically significant p-value."
   ]
  },
  {
   "cell_type": "code",
   "execution_count": 108,
   "id": "2b4cc6be",
   "metadata": {},
   "outputs": [],
   "source": [
    "# Predict values test dataset\n",
    "\n",
    "y_pred_train = saleprice_lm.predict(x_train)\n",
    "y_pred_test = saleprice_lm.predict(x_test)"
   ]
  },
  {
   "cell_type": "code",
   "execution_count": 113,
   "id": "a73b2a01",
   "metadata": {},
   "outputs": [
    {
     "data": {
      "text/plain": [
       "906     12.096090\n",
       "947     12.092083\n",
       "1172    11.875131\n",
       "1161    12.098380\n",
       "1424    11.928940\n",
       "          ...    \n",
       "804     11.805294\n",
       "53      12.214012\n",
       "350     12.229467\n",
       "79      11.863682\n",
       "794     12.244351\n",
       "Length: 1164, dtype: float64"
      ]
     },
     "execution_count": 113,
     "metadata": {},
     "output_type": "execute_result"
    }
   ],
   "source": [
    "y_pred_train"
   ]
  },
  {
   "cell_type": "markdown",
   "id": "03547f2f",
   "metadata": {},
   "source": [
    "Measuring Accuracy of predictions"
   ]
  },
  {
   "cell_type": "code",
   "execution_count": 109,
   "id": "df00b686",
   "metadata": {},
   "outputs": [
    {
     "data": {
      "text/plain": [
       "0.5105647681677198"
      ]
     },
     "execution_count": 109,
     "metadata": {},
     "output_type": "execute_result"
    }
   ],
   "source": [
    "#r-squared for train data\n",
    "np.abs(r2_score(y_train,y_pred_train))"
   ]
  },
  {
   "cell_type": "code",
   "execution_count": 110,
   "id": "f7265fff",
   "metadata": {},
   "outputs": [
    {
     "data": {
      "text/plain": [
       "0.5382174199865226"
      ]
     },
     "execution_count": 110,
     "metadata": {},
     "output_type": "execute_result"
    }
   ],
   "source": [
    "np.abs(r2_score(y_test,y_pred_test))"
   ]
  },
  {
   "cell_type": "markdown",
   "id": "ebf74d84",
   "metadata": {},
   "source": [
    "Train dataset R-squared shows 51.1% impact on SalePrice. Test data shows 59.6% of impact on SalePrice."
   ]
  },
  {
   "cell_type": "code",
   "execution_count": 144,
   "id": "bda4ca9c",
   "metadata": {},
   "outputs": [
    {
     "data": {
      "text/plain": [
       "0.27305087010761675"
      ]
     },
     "execution_count": 144,
     "metadata": {},
     "output_type": "execute_result"
    }
   ],
   "source": [
    "#Calculating Root Mean Squared Error\n",
    "\n",
    "mean_squared_error(y_train,y_pred_train, squared=False)"
   ]
  },
  {
   "cell_type": "code",
   "execution_count": 145,
   "id": "ab9d1708",
   "metadata": {
    "scrolled": true
   },
   "outputs": [
    {
     "data": {
      "text/plain": [
       "0.2838328024401216"
      ]
     },
     "execution_count": 145,
     "metadata": {},
     "output_type": "execute_result"
    }
   ],
   "source": [
    "mean_squared_error(y_test,y_pred_test, squared=False)"
   ]
  },
  {
   "cell_type": "code",
   "execution_count": 115,
   "id": "c10f6dfb",
   "metadata": {},
   "outputs": [
    {
     "name": "stderr",
     "output_type": "stream",
     "text": [
      "/var/folders/nd/2hwdbgt95fv2qql2n5f1y09c0000gn/T/ipykernel_57699/3943305728.py:5: UserWarning: color is redundantly defined by the 'color' keyword argument and the fmt string \"k--\" (-> color='k'). The keyword argument will take precedence.\n",
      "  plt.plot([y_train.min(), y_train.max()], [y_train.min(), y_train.max()], 'k--', c='blue', lw=3)\n"
     ]
    },
    {
     "data": {
      "image/png": "[encoded data removed]",
      "text/plain": [
       "<Figure size 720x360 with 1 Axes>"
      ]
     },
     "metadata": {
      "needs_background": "light"
     },
     "output_type": "display_data"
    }
   ],
   "source": [
    "#scatter plot for train data\n",
    "\n",
    "plt.figure(figsize=(10,5))\n",
    "plt.scatter(y_train, y_pred_train, c='green')\n",
    "plt.plot([y_train.min(), y_train.max()], [y_train.min(), y_train.max()], 'k--', c='blue', lw=3)\n",
    "plt.xlabel('Actual')\n",
    "plt.ylabel('Predicted')\n",
    "\n",
    "plt.show()"
   ]
  },
  {
   "cell_type": "code",
   "execution_count": 116,
   "id": "674efe40",
   "metadata": {},
   "outputs": [
    {
     "data": {
      "image/png": "[encoded data removed]",
      "text/plain": [
       "<Figure size 432x288 with 1 Axes>"
      ]
     },
     "metadata": {
      "needs_background": "light"
     },
     "output_type": "display_data"
    },
    {
     "data": {
      "image/png": "[encoded data removed]",
      "text/plain": [
       "<Figure size 432x288 with 1 Axes>"
      ]
     },
     "metadata": {
      "needs_background": "light"
     },
     "output_type": "display_data"
    }
   ],
   "source": [
    "#Plot predictions\n",
    "\n",
    "plt.scatter(y_train, y_pred_train, c='blue', alpha=0.5, label='Training data')\n",
    "plt.xlabel('GrLivArea')\n",
    "plt.ylabel('SalePrice')\n",
    "plt.legend()\n",
    "\n",
    "plt.plot([y_train.min(), y_train.max()], [y_train.min(), y_train.max()], '--', c='red', lw=3)\n",
    "\n",
    "plt.show()\n",
    "\n",
    "plt.scatter(y_test, y_pred_test, c='lightgreen',alpha=0.5, label='Validation data')\n",
    "plt.xlabel('Predicted values')\n",
    "plt.ylabel('Realvalues')\n",
    "plt.legend()\n",
    "\n",
    "plt.plot([y_train.min(), y_train.max()], [y_train.min(), y_train.max()], '--', c='red', lw=3)\n",
    "\n",
    "plt.show()"
   ]
  },
  {
   "cell_type": "markdown",
   "id": "6374a05b",
   "metadata": {},
   "source": [
    "Thoughts on Multiple Linear Regression"
   ]
  },
  {
   "cell_type": "markdown",
   "id": "8133c5b6",
   "metadata": {},
   "source": [
    "### How to find the best explanatory variables for SalePrice prediction? \n",
    "\n",
    "Options: \n",
    "\n",
    "* Finding highest correlation with Y\n",
    "    * this model (of one variable) provides highest standardized regression coefficient and highest R^2 (square of r in a simple linear regression, the highest coefficient of determination)\n",
    "    \n",
    "* Choose multple explanatory variables for predictors\n",
    "\n",
    "Caution for confounding and spurious correlations\n",
    "* spurious relationships: relationship between two variables that is casued by statisticall artifact or a factor, not included in the model, that is related to both variables. \n",
    "\n",
    "\n",
    "Brainstorming list of features that are promising from reading `data_description.txt`\n",
    "Then start with correlation matrix and further data exploration for top tier. \n",
    "\n",
    "From reading: \n",
    "* OverallQual: Rates the overall material and finish of the house\n",
    "* OverallCond: Rates tthe overall condition of the house\n",
    "* GrLivArea: Above grade (ground) living area square feet\n",
    "* TotTomsAbvGrd: Total rooms above grade (does not include bathrooms)\n",
    "* GarageCars: Size of garage in car capacity\n",
    "* GarageArea: Size of garage in square feet"
   ]
  },
  {
   "cell_type": "code",
   "execution_count": null,
   "id": "364e56bf",
   "metadata": {},
   "outputs": [],
   "source": []
  }
 ],
 "metadata": {
  "kernelspec": {
   "display_name": "Python 3 (ipykernel)",
   "language": "python",
   "name": "python3"
  },
  "language_info": {
   "codemirror_mode": {
    "name": "ipython",
    "version": 3
   },
   "file_extension": ".py",
   "mimetype": "text/x-python",
   "name": "python",
   "nbconvert_exporter": "python",
   "pygments_lexer": "ipython3",
   "version": "3.9.7"
  }
 },
 "nbformat": 4,
 "nbformat_minor": 5
}
